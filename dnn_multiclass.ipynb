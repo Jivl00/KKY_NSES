{
 "cells": [
  {
   "cell_type": "markdown",
   "id": "541af361-f362-487c-b15c-f607a982246f",
   "metadata": {},
   "source": [
    "# Multiclass classification with deep neural networks\n",
    "This is deep neural network implementation from scratch, without using any machine learning libraries.\n",
    "\n",
    "The dataset used is MNIST dataset of handwritten images."
   ]
  },
  {
   "cell_type": "markdown",
   "id": "7526df53-9604-48df-b38f-7e3003bc4fb6",
   "metadata": {},
   "source": [
    "## Table of Contents\n",
    "- [1 - Load data](#1)\n",
    "- [2 - Initialize Parameters](#2)\n",
    "- [3 - Cost Function](#3)\n",
    "- [4 - Activation Function](#4)\n",
    "- [5 - Forward Propagation](#5)\n",
    "- [6 - Backward Propagation](#6)\n",
    "- [7 - Update Parameters](#7)\n",
    "- [8 - Train Model](#8)\n",
    "- [9 - Save and Load Model](#9)\n",
    "- [10 - Predict](#10)\n",
    "- [11 - Print Images](#11)"
   ]
  },
  {
   "cell_type": "code",
   "execution_count": 26,
   "outputs": [],
   "source": [
    "# import sys\n",
    "# !{sys.executable} -m pip install python-mnist"
   ],
   "metadata": {
    "collapsed": false,
    "ExecuteTime": {
     "end_time": "2023-11-14T17:13:13.174925700Z",
     "start_time": "2023-11-14T17:13:12.930927100Z"
    }
   },
   "id": "a2af57a57060b5f0"
  },
  {
   "cell_type": "code",
   "execution_count": 27,
   "id": "1d146ab8-0a15-40bb-a251-00fc072193f1",
   "metadata": {
    "ExecuteTime": {
     "end_time": "2023-11-14T17:13:13.207925300Z",
     "start_time": "2023-11-14T17:13:12.950926400Z"
    }
   },
   "outputs": [],
   "source": [
    "from PIL import Image\n",
    "import matplotlib.pyplot as plt\n",
    "import csv\n",
    "import numpy as np\n",
    "\n",
    "np.random.seed(0)"
   ]
  },
  {
   "cell_type": "markdown",
   "id": "43391347-9a10-4600-8408-546a02db5478",
   "metadata": {},
   "source": [
    "<a name='1'></a>\n",
    "### Load data\n",
    "Dataset contains training and test sets.\n",
    "Each example is flattened `28x28` greyscale image of with shape `784 (28 * 28)`.\n",
    "\n",
    "By default label set is a vector that contains single digit from `0` to `9`. \n",
    "In order to make it work first we need to expand this into a 10 dimensional matrix\n",
    "e.g if the label is `4` we expand it to be `[0, 0, 0, 0, 1, 0, 0, 0, 0, 0]`\n",
    "After this the label set shape will become `10 x 60000`"
   ]
  },
  {
   "cell_type": "code",
   "execution_count": 28,
   "id": "c2726339-25e7-46fa-bf5f-b3d28ccaf8ab",
   "metadata": {
    "ExecuteTime": {
     "end_time": "2023-11-14T17:13:13.224924900Z",
     "start_time": "2023-11-14T17:13:12.969925900Z"
    }
   },
   "outputs": [
    {
     "name": "stdout",
     "output_type": "stream",
     "text": [
      "Number of training examples:  400\n",
      "Number of testing examples:   100\n",
      "------\n",
      "Flattened image size:         2\n",
      "------\n",
      "x_train shape:                (2, 400)\n",
      "y_train shape initial:        (400,)\n",
      "------\n",
      "y_train shape expanded:       (5, 400)\n",
      "------\n",
      "x_test shape:                 (2, 100)\n",
      "y_test shape:                 (1, 100)\n"
     ]
    }
   ],
   "source": [
    "data1 = np.loadtxt('SP/tren_data1___09.txt')\n",
    "data1 = np.random.permutation(data1)\n",
    "data1_dict = {\"train\": data1[:int(len(data1)*0.8)], \"test\": data1[int(len(data1)*0.8):]}\n",
    "x_train = data1_dict['train'][:,:-1].T\n",
    "y_train_raw = data1_dict['train'][:,-1]\n",
    "x_test = data1_dict['test'][:,:-1].T\n",
    "y_test = data1_dict['test'][:,-1]\n",
    "from sklearn import preprocessing\n",
    "lb = preprocessing.LabelBinarizer() # one hot encoding\n",
    "# \n",
    "# Y_train = lb.fit_transform(y_train)\n",
    "# Y_train = Y_train.T\n",
    "# Y_test = lb.fit_transform(y_test)\n",
    "# Y_test = Y_test.T\n",
    "\n",
    "\n",
    "m_train = x_train.shape[1] # Number of examples\n",
    "num_px = x_train.shape[0] # Number of input elements\n",
    "m_test = x_test.shape[1] # Number of test examples\n",
    "\n",
    "# Expand Y values to vectors\n",
    "# e.g. 4 will become [0, 0, 0, 1]\n",
    "y_train = lb.fit_transform(y_train_raw)\n",
    "y_train = y_train.T\n",
    "y_test = y_test.reshape(1, y_test.shape[0])\n",
    "print ('Number of training examples: ', m_train)\n",
    "print ('Number of testing examples:  ', m_test)\n",
    "print ('------')\n",
    "print ('Flattened image size:        ', num_px)\n",
    "print ('------')\n",
    "print ('x_train shape:               ', x_train.shape)\n",
    "print ('y_train shape initial:       ', y_train_raw.shape)\n",
    "print ('------')\n",
    "print ('y_train shape expanded:      ', y_train.shape)\n",
    "print ('------')\n",
    "print ('x_test shape:                ', x_test.shape)\n",
    "print ('y_test shape:                ', y_test.shape)"
   ]
  },
  {
   "cell_type": "code",
   "execution_count": 29,
   "outputs": [
    {
     "name": "stdout",
     "output_type": "stream",
     "text": [
      "[[2. 4. 2. 5. 5. 3. 4. 3. 1. 2. 5. 5. 5. 5. 4. 1. 1. 3. 2. 4. 3. 1. 4. 3.\n",
      "  4. 5. 1. 2. 4. 5. 3. 5. 1. 4. 1. 5. 5. 2. 3. 1. 2. 4. 2. 2. 3. 3. 1. 1.\n",
      "  2. 2. 5. 5. 3. 5. 4. 5. 2. 3. 5. 2. 1. 4. 5. 5. 4. 2. 3. 5. 2. 5. 3. 1.\n",
      "  4. 1. 2. 4. 5. 2. 5. 1. 2. 4. 4. 1. 5. 1. 1. 3. 3. 3. 3. 1. 4. 2. 3. 4.\n",
      "  2. 2. 1. 2.]]\n"
     ]
    }
   ],
   "source": [
    "print(y_test)"
   ],
   "metadata": {
    "collapsed": false,
    "ExecuteTime": {
     "end_time": "2023-11-14T17:13:13.252930300Z",
     "start_time": "2023-11-14T17:13:12.983926100Z"
    }
   },
   "id": "fdd9f8bb2be5280d"
  },
  {
   "cell_type": "markdown",
   "id": "b0c5c767-2bda-443a-be81-1cd21a8be1ec",
   "metadata": {},
   "source": [
    "## Functions "
   ]
  },
  {
   "cell_type": "markdown",
   "id": "75b74188-3068-4d43-9edc-bd2b1264cdc5",
   "metadata": {},
   "source": [
    "<a name='2'></a>\n",
    "### Initialize Parameters"
   ]
  },
  {
   "cell_type": "code",
   "execution_count": 30,
   "id": "46bc8204-6f50-4bf4-98e8-3884b92f7870",
   "metadata": {
    "ExecuteTime": {
     "end_time": "2023-11-14T17:13:13.334933200Z",
     "start_time": "2023-11-14T17:13:13.000924900Z"
    }
   },
   "outputs": [],
   "source": [
    "def initialize_parameters(dims):\n",
    "    \"\"\"\n",
    "    Initializes parameters\n",
    "        Wl -- to random values\n",
    "        bl -- to zeros\n",
    "        \n",
    "    Arguments:\n",
    "        dims -- list of layer sizes\n",
    "    \n",
    "    Returns:\n",
    "        parameters\n",
    "            Wl -- weights matrix, shape (current layer nodes, previous layer nodes)\n",
    "            bl -- biases vector, shape (current layer nodes, 1)\n",
    "    \"\"\"\n",
    "    np.random.seed(1)\n",
    "    parameters = {}\n",
    "    L = len(dims) # Number of layers\n",
    "\n",
    "    for l in range(1, L):\n",
    "        parameters['W' + str(l)] = np.random.randn(dims[l], dims[l-1]) / np.sqrt(dims[l-1])\n",
    "        parameters['b' + str(l)] = np.zeros((dims[l], 1))\n",
    "        \n",
    "        assert(parameters['W' + str(l)].shape == (dims[l], dims[l-1]))\n",
    "        assert(parameters['b' + str(l)].shape == (dims[l], 1))\n",
    "        \n",
    "    return parameters"
   ]
  },
  {
   "cell_type": "markdown",
   "id": "50d857a2-15cf-455a-959f-cc89e734170b",
   "metadata": {},
   "source": [
    "<a name='3'></a>\n",
    "## Cost Function\n",
    "\n",
    "Compute the cross-entropy cost $J$, using the following formula: $$-\\frac{1}{m} \\sum\\limits_{i = 1}^{m} (y^{(i)}\\log\\left(a^{[L] (i)}\\right) + (1-y^{(i)})\\log\\left(1- a^{[L](i)}\\right)) \\tag{1}$$\n"
   ]
  },
  {
   "cell_type": "code",
   "execution_count": 31,
   "id": "0f621bdd-5b33-4f59-9d3f-2a0ca9f3f0a2",
   "metadata": {
    "ExecuteTime": {
     "end_time": "2023-11-14T17:13:13.336926Z",
     "start_time": "2023-11-14T17:13:13.016925900Z"
    }
   },
   "outputs": [],
   "source": [
    "def compute_cost(AL, Y):\n",
    "    \"\"\"\n",
    "    Computes the cost\n",
    "\n",
    "    Arguments:\n",
    "        AL -- output vector(predictions), shape (number of classes, number of examples)\n",
    "        Y -- actual values matrix, shape (number of classes, number of examples)\n",
    "\n",
    "    Returns:\n",
    "        cost -- cross-entropy cost\n",
    "    \"\"\"\n",
    "    \n",
    "    m = Y.shape[1] # number of examples  \n",
    "    n = Y.shape[0] # number of classes\n",
    "    cost = np.zeros((n, 1)) + 1\n",
    "    \n",
    "    for i in range(n):\n",
    "        al = AL[i, :]\n",
    "        y = Y[i, :]\n",
    "        # cost[i, :] = (1./m) * (-np.dot(y, np.log(al).T) - np.dot(1-y, np.log(1-al).T))\n",
    "        # 1/2*(y-al)^2\n",
    "        cost[i, :] = (1./(2*m)) * np.sum(np.square(y-al))\n",
    "    \n",
    "#     cost = (1./m) * (-np.dot(Y, np.log(AL).T) - np.dot(1-Y, np.log(1-AL).T)) \n",
    "#     cost = np.squeeze(cost)    \n",
    "\n",
    "    \n",
    "    return cost"
   ]
  },
  {
   "cell_type": "markdown",
   "id": "6d2b52f2-446e-4672-9e19-5bd6e77f006e",
   "metadata": {},
   "source": [
    "<a name='4'></a>\n",
    "### Activation Function\n",
    "\n",
    "In this notebook, you will use two activation functions:\n",
    "\n",
    "- **Sigmoid**: $\\sigma(Z) = \\sigma(W A + b) = \\frac{1}{ 1 + e^{-(W A + b)}}$.\n",
    "\n",
    "\n",
    "\n",
    "- **ReLU**: $A = RELU(Z) = max(0, Z)$. \n",
    "\n",
    "\n",
    "- **`sigmoid_backward`**: Implements the backward propagation for SIGMOID unit.\n",
    "\n",
    "- **`relu_backward`**: Implements the backward propagation for RELU unit.\n",
    "\n",
    "If $g(.)$ is the activation function, \n",
    "`sigmoid_backward` and `relu_backward` compute $$dZ^{[l]} = dA^{[l]} * g'(Z^{[l]}). \\tag{2}$$  \n"
   ]
  },
  {
   "cell_type": "code",
   "execution_count": 32,
   "id": "4294f1e2-f9b1-4417-b68a-3b018e7ecee1",
   "metadata": {
    "ExecuteTime": {
     "end_time": "2023-11-14T17:13:13.337925300Z",
     "start_time": "2023-11-14T17:13:13.032926Z"
    }
   },
   "outputs": [],
   "source": [
    "def sigmoid(Z):\n",
    "    \"\"\"\n",
    "    Calculates sigmoid of any input\n",
    "    \n",
    "    Arguments:\n",
    "        Z -- numpy array of any shape\n",
    "    \n",
    "    Returns:\n",
    "        A -- sigmoid of input Z, shape (same as Z)\n",
    "        cache -- returns Z for caching, useful in backpropagation\n",
    "    \"\"\"\n",
    "    \n",
    "    A = 1/(1+np.exp(-Z))\n",
    "    cache = Z\n",
    "    \n",
    "    return A, cache\n",
    "\n",
    "def relu(Z):\n",
    "    \"\"\"\n",
    "    Calculates RELU.\n",
    "\n",
    "    Arguments:\n",
    "        Z -- numpy array of any shape\n",
    "\n",
    "    Returns:\n",
    "        A -- Activation of Z\n",
    "        cache -- returns Z for caching, useful in backpropagation\n",
    "    \"\"\"\n",
    "    \n",
    "    A = np.maximum(0,Z)\n",
    "    \n",
    "    assert A.shape == Z.shape, 'A should be same shape as Z'\n",
    "    \n",
    "    cache = Z \n",
    "    return A, cache\n",
    "\n",
    "\n",
    "def relu_backward(dA, cache):\n",
    "    \"\"\"\n",
    "    Calculates the backward propagation for a single RELU unit.\n",
    "\n",
    "    Arguments:\n",
    "        dA -- post-activation gradient, of any shape\n",
    "        cache -- returns Z for caching, useful in backpropagation\n",
    "\n",
    "    Returns:\n",
    "        dZ -- Gradient of the cost with respect to Z\n",
    "    \"\"\"\n",
    "    \n",
    "    Z = cache\n",
    "    dZ = np.array(dA, copy=True) # convert dz to a numpy array.\n",
    "    \n",
    "    # When z <= 0, set dz to 0 as well. \n",
    "    dZ[Z <= 0] = 0\n",
    "    \n",
    "    assert dZ.shape == Z.shape, 'dZ should be the same shape as Z'\n",
    "    \n",
    "    return dZ\n",
    "\n",
    "def sigmoid_backward(dA, cache):\n",
    "    \"\"\"\n",
    "    Calculates the backward propagation for a single SIGMOID unit.\n",
    "\n",
    "    Arguments:\n",
    "        dA -- post-activation gradient, of any shape\n",
    "        cache -- returns Z for caching, useful in backpropagation\n",
    "\n",
    "    Returns:\n",
    "        dZ -- Gradient of the cost with respect to Z\n",
    "    \"\"\"\n",
    "    \n",
    "    Z = cache\n",
    "    \n",
    "    s = 1/(1+np.exp(-Z))\n",
    "    dZ = dA * s * (1-s)\n",
    "    \n",
    "    assert dZ.shape == Z.shape, 'dZ should be the same shape as Z'\n",
    "    \n",
    "    return dZ"
   ]
  },
  {
   "cell_type": "markdown",
   "id": "70b60ac5-49cc-414a-b848-3d3027f10770",
   "metadata": {},
   "source": [
    "<a name='5'></a>\n",
    "## Forward Propagation\n",
    "Calculate forward propagation:\n",
    "\n",
    "$$Z^{[l]} = W^{[l]}A^{[l-1]} +b^{[l]}\\tag{3}$$\n",
    "Followed by an activation.\n",
    "\n"
   ]
  },
  {
   "cell_type": "code",
   "execution_count": 33,
   "id": "afb15cb9-26dd-47a4-a3e1-28af07a88a22",
   "metadata": {
    "ExecuteTime": {
     "end_time": "2023-11-14T17:13:13.338925400Z",
     "start_time": "2023-11-14T17:13:13.047925600Z"
    }
   },
   "outputs": [],
   "source": [
    "def forward_pass(A_prev, W, b, activation):\n",
    "    \"\"\"\n",
    "    Calculates activations of Z and passes to the next layer.\n",
    "    \n",
    "    Arguments:\n",
    "        A_prev -- activations of previous layer\n",
    "        W -- weight matrix of the current layer\n",
    "        b -- bias values of the current layer\n",
    "        activation -- type of activation function\n",
    "    \"\"\"\n",
    "    activation = activation.lower()\n",
    "    assert activation == 'relu' or activation == 'sigmoid', \"activation should be either 'relu', or 'sigmoid'\"\n",
    "    \n",
    "    Z = W.dot(A_prev) + b\n",
    "    assert Z.shape == (W.shape[0], A_prev.shape[1]), 'wrong Z shape'\n",
    "\n",
    "    linear_cache = (A_prev, W, b)   \n",
    "    \n",
    "    if activation == \"sigmoid\":\n",
    "        A, activation_cache = sigmoid(Z)    \n",
    "    elif activation == \"relu\":\n",
    "        A, activation_cache = relu(Z)\n",
    "    \n",
    "    assert A.shape == (W.shape[0], A_prev.shape[1]), 'wrong A shape'\n",
    "    \n",
    "    cache = (linear_cache, activation_cache)\n",
    "\n",
    "    return A, cache"
   ]
  },
  {
   "cell_type": "code",
   "execution_count": 34,
   "id": "88e3dbee-2709-4f24-a4be-4ed7c77b122c",
   "metadata": {
    "ExecuteTime": {
     "end_time": "2023-11-14T17:13:13.338925400Z",
     "start_time": "2023-11-14T17:13:13.059926100Z"
    }
   },
   "outputs": [],
   "source": [
    "def forward_propagate(X, parameters):\n",
    "    \"\"\"\n",
    "    Propagates forward.\n",
    "    \n",
    "    Arguments:\n",
    "        X -- numpy array of input data, shape (number of examples, input size)\n",
    "        parameters -- initialized parameters\n",
    "    \n",
    "    Returns:\n",
    "        AL -- output layer of predictions\n",
    "        caches -- list of caches containing:\n",
    "                    cache of relu activations\n",
    "                    cache of sigmoid activation of output layer\n",
    "    \"\"\"\n",
    "\n",
    "    caches = []\n",
    "    A = X\n",
    "    L = len(parameters) // 2 # number of layers\n",
    "    \n",
    "    for l in range(1, L):\n",
    "        A_prev = A \n",
    "        A, cache = forward_pass(A_prev, parameters['W' + str(l)], parameters['b' + str(l)], activation = \"relu\")\n",
    "        caches.append(cache)        \n",
    "    \n",
    "    AL, cache = forward_pass(A, parameters['W' + str(L)], parameters['b' + str(L)], activation = \"sigmoid\")\n",
    "    caches.append(cache)\n",
    "\n",
    "    assert AL.shape == (dims[len(dims) - 1],X.shape[1]), 'wrong output layer shape'\n",
    "\n",
    "    return AL, caches"
   ]
  },
  {
   "cell_type": "markdown",
   "id": "e9dc3620-4af5-4fbb-895e-db28de3c9bcb",
   "metadata": {},
   "source": [
    "<a name='6'></a>\n",
    "### Backward Propagation\n",
    "\n",
    "For layer $l$, the linear part is: $Z^{[l]} = W^{[l]} A^{[l-1]} + b^{[l]}$ (followed by an activation).\n",
    "\n",
    "Suppose you have already calculated the derivative $dZ^{[l]} = \\frac{\\partial \\mathcal{L} }{\\partial Z^{[l]}}$. You want to get $(dW^{[l]}, db^{[l]}, dA^{[l-1]})$.\n",
    "\n",
    "\n",
    "The three outputs $(dW^{[l]}, db^{[l]}, dA^{[l-1]})$ are computed using the input $dZ^{[l]}$.\n",
    "\n",
    "$$ dW^{[l]} = \\frac{\\partial \\mathcal{J} }{\\partial W^{[l]}} = \\frac{1}{m} dZ^{[l]} A^{[l-1] T} \\tag{4}$$\n",
    "$$ db^{[l]} = \\frac{\\partial \\mathcal{J} }{\\partial b^{[l]}} = \\frac{1}{m} \\sum_{i = 1}^{m} dZ^{[l](i)}\\tag{5}$$\n",
    "$$ dA^{[l-1]} = \\frac{\\partial \\mathcal{L} }{\\partial A^{[l-1]}} = W^{[l] T} dZ^{[l]} \\tag{6}$$"
   ]
  },
  {
   "cell_type": "markdown",
   "id": "46f318aa-1360-4e12-9ceb-1b707e2c5ee9",
   "metadata": {},
   "source": [
    "Pass parameters back by one layer"
   ]
  },
  {
   "cell_type": "code",
   "execution_count": 35,
   "id": "f4f45009-52b6-48ee-b88b-c4fc5dd305f8",
   "metadata": {
    "ExecuteTime": {
     "end_time": "2023-11-14T17:13:13.338925400Z",
     "start_time": "2023-11-14T17:13:13.077926Z"
    }
   },
   "outputs": [],
   "source": [
    "def backward_pass(dA, cache, activation):\n",
    "    \"\"\"\n",
    "    Calculates derivative of activations and passes to the previous layer.\n",
    "    \n",
    "    Arguments:\n",
    "        dA -- post-activation gradient of the current layer\n",
    "        cache -- tuple of caches (linear_cache, activation_cache), saved during forward propagation\n",
    "        activation -- name of activation function\n",
    "    \n",
    "    Returns:\n",
    "        dA_prev -- Gradient of the cost with respect to the activation of the previous layer, same shape as A_prev\n",
    "        dW -- Gradient of the cost with respect to W, same shape as W\n",
    "        db -- Gradient of the cost with respect to b, same shape as b\n",
    "    \"\"\"\n",
    "    linear_cache, activation_cache = cache\n",
    "        \n",
    "    A_prev, W, b = linear_cache\n",
    "    m = A_prev.shape[1]    \n",
    "    \n",
    "    if activation == \"relu\":\n",
    "        dZ = relu_backward(dA, activation_cache)        \n",
    "    elif activation == \"sigmoid\":\n",
    "        dZ = sigmoid_backward(dA, activation_cache)\n",
    "\n",
    "    dW = 1./m * np.dot(dZ,A_prev.T)\n",
    "    db = 1./m * np.sum(dZ, axis = 1, keepdims = True)\n",
    "    dA_prev = np.dot(W.T,dZ)\n",
    "    \n",
    "    return dA_prev, dW, db"
   ]
  },
  {
   "cell_type": "markdown",
   "id": "f9ffb706-b532-4849-86a0-c1b6923760bf",
   "metadata": {},
   "source": [
    "Backward propagate through all the layers"
   ]
  },
  {
   "cell_type": "code",
   "execution_count": 36,
   "id": "3238b4aa-b699-4cfd-82bc-74210a994910",
   "metadata": {
    "ExecuteTime": {
     "end_time": "2023-11-14T17:13:13.338925400Z",
     "start_time": "2023-11-14T17:13:13.091925900Z"
    }
   },
   "outputs": [],
   "source": [
    "def backward_propagate(AL, Y, caches):\n",
    "    \"\"\"\n",
    "    Propagates backwards\n",
    "    \n",
    "    Arguments:\n",
    "        AL -- output layer predictions\n",
    "        Y -- actual values\n",
    "        caches -- list of caches containing:\n",
    "                    cache of relu activations\n",
    "                    cache of sigmoid activations of the last layer\n",
    "    \n",
    "    Returns:\n",
    "        grads -- A dictionary of gradients 'dA', 'dW', 'db'\n",
    "\n",
    "    \"\"\"\n",
    "    grads = {}\n",
    "    L = len(caches) # number of layers\n",
    "    m = AL.shape[1] # number of examples\n",
    "    Y = Y.reshape(AL.shape)\n",
    "    \n",
    "    # Initialize the backpropagation\n",
    "    # dAL = - (np.divide(Y, AL) - np.divide(1 - Y, 1 - AL))\n",
    "    # loss derivative, loss = 1/2m*(y-al)^2\n",
    "    dAL = -(Y - AL)\n",
    "    \n",
    "    current_cache = caches[L-1]\n",
    "    grads[\"dA\" + str(L-1)], grads[\"dW\" + str(L)], grads[\"db\" + str(L)] = backward_pass(dAL, current_cache, activation = \"sigmoid\")\n",
    "\n",
    "    for l in reversed(range(L-1)):\n",
    "        current_cache = caches[l]\n",
    "        dA_prev_temp, dW_temp, db_temp = backward_pass(grads[\"dA\" + str(l + 1)], current_cache, activation = \"relu\")\n",
    "        grads[\"dA\" + str(l)] = dA_prev_temp\n",
    "        grads[\"dW\" + str(l + 1)] = dW_temp\n",
    "        grads[\"db\" + str(l + 1)] = db_temp\n",
    "\n",
    "    return grads"
   ]
  },
  {
   "cell_type": "markdown",
   "id": "c80844b5-76e7-4230-bc42-487075a08931",
   "metadata": {},
   "source": [
    "<a name='7'></a>\n",
    "### Update Parameters\n",
    "\n",
    "Update the parameters of the model, using gradient descent: \n",
    "\n",
    "$$ W^{[l]} = W^{[l]} - \\alpha \\text{ } dW^{[l]} \\tag{8}$$\n",
    "$$ b^{[l]} = b^{[l]} - \\alpha \\text{ } db^{[l]} \\tag{9}$$\n",
    "\n",
    "where $\\alpha$ is the learning rate. \n",
    "\n",
    "After computing the updated parameters, store them in the parameters dictionary. "
   ]
  },
  {
   "cell_type": "code",
   "execution_count": 37,
   "id": "bad31731-6938-42ba-afd5-527e96746b01",
   "metadata": {
    "ExecuteTime": {
     "end_time": "2023-11-14T17:13:13.338925400Z",
     "start_time": "2023-11-14T17:13:13.107926600Z"
    }
   },
   "outputs": [],
   "source": [
    "def update_parameters(parameters, grads, learning_rate):\n",
    "    \"\"\"\n",
    "    Update parameters.\n",
    "    \n",
    "    Arguments:\n",
    "        parameters -- dictionary of parameters \n",
    "        grads -- dictionary of gradients\n",
    "    \n",
    "    Returns:\n",
    "        parameters -- dictionary of updated parameters 'W' and 'b'\n",
    "    \"\"\"\n",
    "    \n",
    "    L = len(parameters) // 2 # number of layers\n",
    "\n",
    "    for l in range(L):\n",
    "        parameters[\"W\" + str(l+1)] = parameters[\"W\" + str(l+1)] - learning_rate * grads[\"dW\" + str(l+1)]\n",
    "        parameters[\"b\" + str(l+1)] = parameters[\"b\" + str(l+1)] - learning_rate * grads[\"db\" + str(l+1)]\n",
    "        \n",
    "    return parameters"
   ]
  },
  {
   "cell_type": "markdown",
   "id": "bc77d179-1bdd-40f7-bb86-6ac02933247f",
   "metadata": {},
   "source": [
    "<a name='8'></a>\n",
    "### Train Model\n",
    "\n",
    "User above defined functions to train a model"
   ]
  },
  {
   "cell_type": "code",
   "execution_count": 38,
   "id": "70c17eb1-949f-4ad3-879c-c35f96115a32",
   "metadata": {
    "ExecuteTime": {
     "end_time": "2023-11-14T17:13:13.339925400Z",
     "start_time": "2023-11-14T17:13:13.123927100Z"
    }
   },
   "outputs": [],
   "source": [
    "def model(X, Y, dims, learning_rate = 0.01, epochs = 100, print_cost=False):\n",
    "    \"\"\"\n",
    "    Trains full deep neural network.\n",
    "    \n",
    "    Arguments:\n",
    "        X -- numpy array of input data, shape (flattened image pixel number, number of examples)\n",
    "        Y -- actual values\n",
    "        layers_dims -- list of layers\n",
    "        learning_rate -- learning rate\n",
    "        epochs -- number of iterations\n",
    "        print_cost -- if True, it prints the cost every 100 steps\n",
    "    \n",
    "    Returns:\n",
    "        parameters -- learned parameters.\n",
    "    \"\"\"\n",
    "\n",
    "    costs = []\n",
    "\n",
    "    parameters = initialize_parameters(dims)\n",
    "        \n",
    "    # Gradient descent\n",
    "    for i in range(0, epochs):\n",
    "\n",
    "        AL, caches = forward_propagate(X, parameters)\n",
    "        \n",
    "        cost = compute_cost(AL, Y)\n",
    "\n",
    "        grads = backward_propagate(AL, Y, caches)\n",
    "\n",
    "        parameters = update_parameters(parameters, grads, learning_rate)\n",
    "                \n",
    "        # Print the cost every 100 iterations\n",
    "        if print_cost and i % 100 == 0 or i == epochs - 1:\n",
    "            print(\"Cost after iteration {}: {}\".format(i, np.squeeze(cost)))\n",
    "        if i % 100 == 0 or i == epochs:\n",
    "            costs.append(cost)\n",
    "    \n",
    "    return parameters, costs"
   ]
  },
  {
   "cell_type": "code",
   "execution_count": 39,
   "id": "57db1ccf-9a17-445e-96a4-d8394996a7e8",
   "metadata": {
    "ExecuteTime": {
     "end_time": "2023-11-14T17:13:13.652929700Z",
     "start_time": "2023-11-14T17:13:13.142925600Z"
    }
   },
   "outputs": [
    {
     "name": "stdout",
     "output_type": "stream",
     "text": [
      "Cost after iteration 0: [0.2209198  0.1027425  0.23474041 0.26078658 0.26229972]\n",
      "Cost after iteration 100: [0.04477774 0.04119648 0.0160158  0.00638025 0.00419065]\n",
      "Cost after iteration 200: [0.03793133 0.03333435 0.00853425 0.00309547 0.00146336]\n",
      "Cost after iteration 300: [0.03170153 0.02702746 0.00653326 0.00268548 0.00152255]\n",
      "Cost after iteration 400: [0.02642278 0.02264216 0.00527748 0.00239392 0.00154124]\n",
      "Cost after iteration 500: [0.02204136 0.01935886 0.00437902 0.00213274 0.00145885]\n",
      "Cost after iteration 600: [0.0183519  0.01698771 0.00364767 0.00189129 0.0013406 ]\n",
      "Cost after iteration 700: [0.01491156 0.01555913 0.0029844  0.00165854 0.00120174]\n",
      "Cost after iteration 800: [0.01214498 0.01440504 0.00245686 0.00143818 0.00105567]\n",
      "Cost after iteration 900: [0.01009485 0.01327673 0.00206836 0.00125142 0.00092864]\n",
      "Cost after iteration 1000: [0.00852688 0.0122228  0.00177796 0.00109889 0.00082401]\n",
      "Cost after iteration 1100: [0.0073009  0.01126097 0.00155685 0.00097382 0.00073771]\n",
      "Cost after iteration 1200: [0.00632303 0.01039559 0.00138457 0.00086965 0.00066527]\n",
      "Cost after iteration 1300: [0.00553114 0.00962696 0.00124482 0.00078143 0.00060303]\n",
      "Cost after iteration 1400: [0.0048808  0.00893977 0.00113105 0.00070628 0.00054947]\n",
      "Cost after iteration 1500: [0.00433921 0.00832443 0.00103674 0.00064159 0.00050289]\n",
      "Cost after iteration 1600: [0.00387996 0.00777196 0.00095735 0.00058521 0.00046196]\n",
      "Cost after iteration 1700: [0.00348806 0.00727772 0.00088792 0.00053543 0.00042528]\n",
      "Cost after iteration 1800: [0.00315055 0.00683192 0.00082694 0.00049145 0.0003925 ]\n",
      "Cost after iteration 1900: [0.00285717 0.00642737 0.00077298 0.00045239 0.00036308]\n",
      "Cost after iteration 1999: [0.00260228 0.00606181 0.00072522 0.0004178  0.00033678]\n"
     ]
    }
   ],
   "source": [
    "input_layer = x_train.shape[0] # set input layer size\n",
    "dims = [input_layer, 10, 5] # set layer number and sizes\n",
    "\n",
    "# parameters, costs = model(x_train[:, :10000], y_train[:, :10000], dims, learning_rate=0.0075, epochs = 100, print_cost = True)\n",
    "parameters, costs = model(x_train, y_train, dims, learning_rate=0.095, epochs = 2000, print_cost = True)"
   ]
  },
  {
   "cell_type": "markdown",
   "id": "8bde9c42-0efe-48b6-a8b0-05aebdd098ee",
   "metadata": {},
   "source": [
    "<a name='9'></a>\n",
    "## Save and Load Model\n",
    "\n",
    "Save model to csv files for later use"
   ]
  },
  {
   "cell_type": "code",
   "execution_count": 40,
   "id": "a82ae143-c7f4-4aaa-a8d1-06fb8b725892",
   "metadata": {
    "ExecuteTime": {
     "end_time": "2023-11-14T17:13:13.670925700Z",
     "start_time": "2023-11-14T17:13:13.646926600Z"
    }
   },
   "outputs": [],
   "source": [
    "def save_model(parameters):\n",
    "    path = './model/'\n",
    "    f = open(path + 'param_keys.csv', 'w')\n",
    "    w = csv.writer(f, delimiter=',')\n",
    "    keys = list(parameters.keys())\n",
    "    w.writerow(keys)\n",
    "    f.close()\n",
    "    \n",
    "    for key in keys:        \n",
    "        np.savetxt(path + key + '.csv', parameters[key], delimiter=\",\")        \n",
    "        \n",
    "def load_model():\n",
    "    path = './model/'\n",
    "    parameters = {}\n",
    "    param_keys = []\n",
    "    with open(path + 'param_keys.csv', newline='') as csvfile:\n",
    "        content = csv.reader(csvfile, delimiter=',', quotechar='|')            \n",
    "        for row in content:\n",
    "            if len(row):\n",
    "                param_keys = list(row)\n",
    "    for key in param_keys:\n",
    "        p = np.genfromtxt(path + key + '.csv', delimiter=',')\n",
    "        parameters[key] = p.reshape(p.shape[0], -1)\n",
    "    return parameters"
   ]
  },
  {
   "cell_type": "code",
   "execution_count": 41,
   "id": "8967eee1-4c19-4825-8578-5ef35eae3f84",
   "metadata": {
    "ExecuteTime": {
     "end_time": "2023-11-14T17:13:13.702926Z",
     "start_time": "2023-11-14T17:13:13.662927100Z"
    }
   },
   "outputs": [],
   "source": [
    "# save_model(parameters)\n",
    "# parameters = load_model()\n",
    "# print(parameters)"
   ]
  },
  {
   "cell_type": "markdown",
   "id": "84792498-4dd7-410e-9ba0-9cd11e180d69",
   "metadata": {},
   "source": [
    "<a name='10'></a>\n",
    "## Predict\n",
    "\n",
    "Use forward propagation to make predictions"
   ]
  },
  {
   "cell_type": "code",
   "execution_count": 42,
   "id": "dbea25fd-a3a8-4c5d-83e1-a51e359dc4de",
   "metadata": {
    "ExecuteTime": {
     "end_time": "2023-11-14T17:13:13.702926Z",
     "start_time": "2023-11-14T17:13:13.682926700Z"
    }
   },
   "outputs": [],
   "source": [
    "def predict(X, y, parameters):\n",
    "    \"\"\"\n",
    "    Predicts using learned parameters.\n",
    "    \n",
    "    Arguments:\n",
    "        X -- input data\n",
    "        parameters -- parameters of the prevously trained model\n",
    "        \n",
    "    Returns:\n",
    "        right_preds -- dictionary of the right predictions\n",
    "        wrong_preds -- dictionary of the wrong predictions\n",
    "        low_confidence_preds -- dictionary of the predictions with low confidence\n",
    "    \"\"\"\n",
    "    \n",
    "    m = X.shape[1] # number of examples\n",
    "    sum_rights = 0 # number of correct predictions\n",
    "    \n",
    "    predictions = {\n",
    "        \"right\": {},\n",
    "        \"wrong\": {},\n",
    "        \"low_confidence\": {}\n",
    "    }\n",
    "\n",
    "    # Forward propagation\n",
    "    preds, caches = forward_propagate(X, parameters)\n",
    "    y_pred = []\n",
    "\n",
    "    for i in range(preds.shape[1]):\n",
    "        max_pred = preds[:, i]\n",
    "        prediction = np.argmax(max_pred, axis=None)\n",
    "        actual = y[:, i].squeeze()\n",
    "        y_pred.append(prediction+1)\n",
    "        \n",
    "        if max(max_pred) < 0.1: \n",
    "            predictions['low_confidence'][i] = {\n",
    "                'pred': prediction+1,\n",
    "                'actual': int(actual),\n",
    "                'confidence': preds[prediction, i]\n",
    "            }\n",
    "        elif prediction+1 == actual:\n",
    "            sum_rights += 1\n",
    "            predictions['right'][i] = {\n",
    "                'pred': prediction+1,\n",
    "                'actual': int(actual),\n",
    "                'confidence': preds[prediction, i]\n",
    "            }\n",
    "        else:\n",
    "            predictions['wrong'][i] = {\n",
    "                'pred': prediction+1,\n",
    "                'actual': int(actual),\n",
    "                'confidence': preds[prediction, i]\n",
    "            }\n",
    "\n",
    "    accuracy = sum_rights/m\n",
    "    \n",
    "    return accuracy, predictions, y_pred"
   ]
  },
  {
   "cell_type": "code",
   "execution_count": 43,
   "id": "cb6d03fe-257e-4833-8baf-734df978a6b4",
   "metadata": {
    "ExecuteTime": {
     "end_time": "2023-11-14T17:13:13.721925300Z",
     "start_time": "2023-11-14T17:13:13.695926400Z"
    }
   },
   "outputs": [
    {
     "name": "stdout",
     "output_type": "stream",
     "text": [
      "accuracy:        1.0\n",
      "correct:         100\n",
      "mistakes:        0\n",
      "low confidence:  0\n"
     ]
    }
   ],
   "source": [
    "accuracy, predictions, y_pred = predict(x_test, y_test, parameters)\n",
    "print('accuracy:       ', accuracy)\n",
    "print('correct:        ', len(predictions['right']))\n",
    "print('mistakes:       ', len(predictions['wrong']))\n",
    "print('low confidence: ', len(predictions['low_confidence']))"
   ]
  },
  {
   "cell_type": "code",
   "execution_count": 44,
   "outputs": [
    {
     "name": "stdout",
     "output_type": "stream",
     "text": [
      "[2, 4, 2, 5, 5, 3, 4, 3, 1, 2, 5, 5, 5, 5, 4, 1, 1, 3, 2, 4, 3, 1, 4, 3, 4, 5, 1, 2, 4, 5, 3, 5, 1, 4, 1, 5, 5, 2, 3, 1, 2, 4, 2, 2, 3, 3, 1, 1, 2, 2, 5, 5, 3, 5, 4, 5, 2, 3, 5, 2, 1, 4, 5, 5, 4, 2, 3, 5, 2, 5, 3, 1, 4, 1, 2, 4, 5, 2, 5, 1, 2, 4, 4, 1, 5, 1, 1, 3, 3, 3, 3, 1, 4, 2, 3, 4, 2, 2, 1, 2]\n"
     ]
    }
   ],
   "source": [
    "print(y_pred)"
   ],
   "metadata": {
    "collapsed": false,
    "ExecuteTime": {
     "end_time": "2023-11-14T17:13:13.725925900Z",
     "start_time": "2023-11-14T17:13:13.710928400Z"
    }
   },
   "id": "744399c0d8fb56b1"
  },
  {
   "cell_type": "code",
   "execution_count": 45,
   "outputs": [
    {
     "name": "stdout",
     "output_type": "stream",
     "text": [
      "(2, 100)\n",
      "(1, 100)\n",
      "(2, 58080)\n",
      "(1, 58080)\n"
     ]
    },
    {
     "data": {
      "text/plain": "Text(0, 0.5, 'petal length')"
     },
     "execution_count": 45,
     "metadata": {},
     "output_type": "execute_result"
    },
    {
     "data": {
      "text/plain": "<Figure size 1200x800 with 1 Axes>",
      "image/png": "[encoded data removed]"
     },
     "metadata": {},
     "output_type": "display_data"
    }
   ],
   "source": [
    "accuracy, predictions, y_pred = predict(x_test, y_test, parameters)\n",
    "print(x_test.shape)\n",
    "print(y_test.shape)\n",
    "%matplotlib inline\n",
    "dt = data1[:,:-1]\n",
    "x_min, x_max = dt[:, 0].min() - 1, dt[:, 0].max() + 1\n",
    "y_min, y_max = dt[:, 1].min() - 1, dt[:, 1].max() + 1\n",
    "xx, yy = np.meshgrid(np.arange(x_min, x_max, 0.1),\n",
    "                     np.arange(y_min, y_max, 0.1))\n",
    "\n",
    "# here \"model\" is your model's prediction (classification) function\n",
    "inp = np.c_[xx.ravel(), yy.ravel()].T\n",
    "print(inp.shape)\n",
    "print(np.zeros((1, inp.shape[1])).shape)\n",
    "_, _, Z = predict(inp, np.zeros((1, inp.shape[1])), parameters)\n",
    "\n",
    "# Put the result into a color plot\n",
    "Z = np.array(Z)\n",
    "Z = Z.reshape(xx.shape)\n",
    "plt.figure(figsize=(12,8))\n",
    "plt.contourf(xx, yy, Z,alpha=0.4)\n",
    "#plt.axis('off')\n",
    "plt.scatter(dt[:, 0], dt[:, 1],s=20, edgecolor='k')\n",
    "plt.xlabel('sepal length')\n",
    "plt.ylabel('petal length')"
   ],
   "metadata": {
    "collapsed": false,
    "ExecuteTime": {
     "end_time": "2023-11-14T17:13:14.447926500Z",
     "start_time": "2023-11-14T17:13:13.732927900Z"
    }
   },
   "id": "f4e01bbc86f432d7"
  },
  {
   "cell_type": "markdown",
   "id": "0d440018-12d8-42a1-8b3d-256254f9345b",
   "metadata": {},
   "source": [
    "<hr>"
   ]
  },
  {
   "cell_type": "markdown",
   "id": "a63a9f30-6293-4a87-9ff6-86291cce5003",
   "metadata": {},
   "source": [
    "#### Print predictions"
   ]
  },
  {
   "cell_type": "code",
   "execution_count": 46,
   "id": "eaecf184-8d0e-465c-8bcc-c574ad8273f1",
   "metadata": {
    "ExecuteTime": {
     "end_time": "2023-11-14T17:13:14.508924600Z",
     "start_time": "2023-11-14T17:13:14.448926500Z"
    }
   },
   "outputs": [
    {
     "name": "stdout",
     "output_type": "stream",
     "text": [
      "Number of training examples:  400\n",
      "Number of testing examples:   100\n",
      "------\n",
      "Flattened image size:         2\n",
      "------\n",
      "x_train shape:                (2, 400)\n",
      "y_train shape initial:        (400,)\n",
      "------\n",
      "y_train shape expanded:       (5, 400)\n",
      "------\n",
      "x_test shape:                 (2, 100)\n",
      "y_test shape:                 (1, 100)\n"
     ]
    }
   ],
   "source": [
    "data1 = np.loadtxt('SP/tren_data2___09.txt')\n",
    "data1 = np.random.permutation(data1)\n",
    "data1_dict = {\"train\": data1[:int(len(data1)*0.8)], \"test\": data1[int(len(data1)*0.8):]}\n",
    "x_train = data1_dict['train'][:,:-1].T\n",
    "y_train_raw = data1_dict['train'][:,-1]\n",
    "x_test = data1_dict['test'][:,:-1].T\n",
    "y_test = data1_dict['test'][:,-1]\n",
    "from sklearn import preprocessing\n",
    "lb = preprocessing.LabelBinarizer() # one hot encoding\n",
    "# \n",
    "# Y_train = lb.fit_transform(y_train)\n",
    "# Y_train = Y_train.T\n",
    "# Y_test = lb.fit_transform(y_test)\n",
    "# Y_test = Y_test.T\n",
    "\n",
    "\n",
    "m_train = x_train.shape[1] # Number of examples\n",
    "num_px = x_train.shape[0] # Number of input elements\n",
    "m_test = x_test.shape[1] # Number of test examples\n",
    "\n",
    "# Expand Y values to vectors\n",
    "# e.g. 4 will become [0, 0, 0, 1]\n",
    "y_train = lb.fit_transform(y_train_raw)\n",
    "y_train = y_train.T\n",
    "y_test = y_test.reshape(1, y_test.shape[0])\n",
    "print ('Number of training examples: ', m_train)\n",
    "print ('Number of testing examples:  ', m_test)\n",
    "print ('------')\n",
    "print ('Flattened image size:        ', num_px)\n",
    "print ('------')\n",
    "print ('x_train shape:               ', x_train.shape)\n",
    "print ('y_train shape initial:       ', y_train_raw.shape)\n",
    "print ('------')\n",
    "print ('y_train shape expanded:      ', y_train.shape)\n",
    "print ('------')\n",
    "print ('x_test shape:                ', x_test.shape)\n",
    "print ('y_test shape:                ', y_test.shape)"
   ]
  },
  {
   "cell_type": "code",
   "execution_count": 47,
   "id": "732bf1a7-76cb-4a89-85dc-6da6f16cd5e7",
   "metadata": {
    "ExecuteTime": {
     "end_time": "2023-11-14T17:13:15.108925500Z",
     "start_time": "2023-11-14T17:13:14.464928500Z"
    }
   },
   "outputs": [
    {
     "name": "stdout",
     "output_type": "stream",
     "text": [
      "Cost after iteration 0: [0.28903734 0.05988741 0.2273113  0.1875259  0.1444003 ]\n",
      "Cost after iteration 100: [0.04290441 0.04263345 0.05724692 0.04352684 0.03892331]\n",
      "Cost after iteration 200: [0.02204433 0.02773161 0.03257213 0.0230633  0.01827429]\n",
      "Cost after iteration 300: [0.01662596 0.02395766 0.0232113  0.01771078 0.01449153]\n",
      "Cost after iteration 400: [0.01344517 0.01963188 0.01933624 0.01580287 0.01202994]\n",
      "Cost after iteration 500: [0.01134148 0.01633681 0.01654755 0.01455795 0.01024222]\n",
      "Cost after iteration 600: [0.00981954 0.01381072 0.01428209 0.01355813 0.00887537]\n",
      "Cost after iteration 700: [0.00863358 0.01188321 0.01240004 0.01265693 0.00779803]\n",
      "Cost after iteration 800: [0.00770085 0.01044109 0.0108758  0.01178707 0.00693686]\n",
      "Cost after iteration 900: [0.00699718 0.00911146 0.00966258 0.01098042 0.00625278]\n",
      "Cost after iteration 1000: [0.00639457 0.0082407  0.00866368 0.01016332 0.00566122]\n",
      "Cost after iteration 1100: [0.00586281 0.00766211 0.00784115 0.00939212 0.00516371]\n",
      "Cost after iteration 1200: [0.00542131 0.00725046 0.00718045 0.00870748 0.00476221]\n",
      "Cost after iteration 1300: [0.00506274 0.00692001 0.00665233 0.00811506 0.00443804]\n",
      "Cost after iteration 1400: [0.00476335 0.00666095 0.00622746 0.00760814 0.00417407]\n",
      "Cost after iteration 1500: [0.00451127 0.00646351 0.00588215 0.00717182 0.0039567 ]\n",
      "Cost after iteration 1600: [0.00430002 0.00630926 0.00559994 0.00679713 0.00377702]\n",
      "Cost after iteration 1700: [0.00412221 0.00618658 0.00536771 0.00647611 0.00362756]\n",
      "Cost after iteration 1800: [0.00397157 0.00608799 0.00517515 0.00620078 0.00350228]\n",
      "Cost after iteration 1900: [0.00384314 0.00600816 0.00501535 0.00596408 0.00339639]\n",
      "Cost after iteration 1999: [0.00373393 0.00594344 0.00488273 0.0057614  0.00330703]\n"
     ]
    }
   ],
   "source": [
    "input_layer = x_train.shape[0] # set input layer size\n",
    "dims = [input_layer, 6,8, 5] # set layer number and sizes\n",
    "\n",
    "# parameters, costs = model(x_train[:, :10000], y_train[:, :10000], dims, learning_rate=0.0075, epochs = 100, print_cost = True)\n",
    "parameters, costs = model(x_train, y_train, dims, learning_rate=0.075, epochs = 2000, print_cost = True)"
   ]
  },
  {
   "cell_type": "code",
   "execution_count": 48,
   "outputs": [
    {
     "data": {
      "text/plain": "Text(0, 0.5, 'petal length')"
     },
     "execution_count": 48,
     "metadata": {},
     "output_type": "execute_result"
    },
    {
     "data": {
      "text/plain": "<Figure size 1200x800 with 1 Axes>",
      "image/png": "[encoded data removed]"
     },
     "metadata": {},
     "output_type": "display_data"
    }
   ],
   "source": [
    "accuracy, predictions, y_pred = predict(x_test, y_test, parameters)\n",
    "%matplotlib inline\n",
    "dt = data1[:,:-1]\n",
    "x_min, x_max = dt[:, 0].min() - 1, dt[:, 0].max() + 1\n",
    "y_min, y_max = dt[:, 1].min() - 1, dt[:, 1].max() + 1\n",
    "xx, yy = np.meshgrid(np.arange(x_min, x_max, 0.1),\n",
    "                     np.arange(y_min, y_max, 0.1))\n",
    "\n",
    "# here \"model\" is your model's prediction (classification) function\n",
    "inp = np.c_[xx.ravel(), yy.ravel()].T\n",
    "_, _, Z = predict(inp, np.zeros((1, inp.shape[1])), parameters)\n",
    "\n",
    "# Put the result into a color plot\n",
    "Z = np.array(Z)\n",
    "Z = Z.reshape(xx.shape)\n",
    "plt.figure(figsize=(12,8))\n",
    "plt.contourf(xx, yy, Z,alpha=0.4)\n",
    "#plt.axis('off')\n",
    "plt.scatter(dt[:, 0], dt[:, 1],s=20, edgecolor='k')\n",
    "plt.xlabel('sepal length')\n",
    "plt.ylabel('petal length')"
   ],
   "metadata": {
    "collapsed": false,
    "ExecuteTime": {
     "end_time": "2023-11-14T17:13:17.056959300Z",
     "start_time": "2023-11-14T17:13:15.105925600Z"
    }
   },
   "id": "aa4168f4caff8ee5"
  },
  {
   "cell_type": "code",
   "execution_count": 49,
   "outputs": [
    {
     "name": "stdout",
     "output_type": "stream",
     "text": [
      "accuracy:        0.9725\n",
      "accuracy:        0.99\n"
     ]
    }
   ],
   "source": [
    "accuracy, predictions, y_pred = predict(x_train, y_train_raw.reshape(1, y_train_raw.shape[0]), parameters)\n",
    "print('accuracy:       ', accuracy)\n",
    "accuracy, predictions, y_pred = predict(x_test, y_test, parameters)\n",
    "print('accuracy:       ', accuracy)"
   ],
   "metadata": {
    "collapsed": false,
    "ExecuteTime": {
     "end_time": "2023-11-14T17:13:17.071959100Z",
     "start_time": "2023-11-14T17:13:17.050962700Z"
    }
   },
   "id": "c7d992198308da49"
  },
  {
   "cell_type": "code",
   "execution_count": 50,
   "outputs": [
    {
     "name": "stdout",
     "output_type": "stream",
     "text": [
      "[[25  0  0  0  0]\n",
      " [ 0 22  0  0  0]\n",
      " [ 0  0 16  0  0]\n",
      " [ 0  0  0 21  1]\n",
      " [ 0  0  0  0 15]]\n"
     ]
    },
    {
     "data": {
      "text/plain": "<Figure size 1000x700 with 2 Axes>",
      "image/png": "[encoded data removed]"
     },
     "metadata": {},
     "output_type": "display_data"
    }
   ],
   "source": [
    "# confusion matrix\n",
    "from sklearn.metrics import confusion_matrix\n",
    "cm = confusion_matrix(y_test[0], y_pred)\n",
    "print(cm)\n",
    "# plot confusion matrix\n",
    "import seaborn as sn\n",
    "import pandas as pd\n",
    "df_cm = pd.DataFrame(cm, range(1,6), range(1,6))\n",
    "plt.figure(figsize=(10,7))\n",
    "sn.set(font_scale=1.4) # for label size\n",
    "sn.heatmap(df_cm, annot=True, annot_kws={\"size\": 12}) # font size\n",
    "plt.show()\n"
   ],
   "metadata": {
    "collapsed": false,
    "ExecuteTime": {
     "end_time": "2023-11-14T17:13:17.305959500Z",
     "start_time": "2023-11-14T17:13:17.066960400Z"
    }
   },
   "id": "d077ee86b8f30242"
  }
 ],
 "metadata": {
  "kernelspec": {
   "name": "tensorflow",
   "language": "python",
   "display_name": "‘TensorFlow-GPU’"
  },
  "language_info": {
   "codemirror_mode": {
    "name": "ipython",
    "version": 3
   },
   "file_extension": ".py",
   "mimetype": "text/x-python",
   "name": "python",
   "nbconvert_exporter": "python",
   "pygments_lexer": "ipython3",
   "version": "3.9.6"
  }
 },
 "nbformat": 4,
 "nbformat_minor": 5
}
